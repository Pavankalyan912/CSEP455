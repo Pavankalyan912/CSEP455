{
 "cells": [
  {
   "cell_type": "code",
   "execution_count": 2,
   "id": "cc468e0f",
   "metadata": {},
   "outputs": [
    {
     "name": "stdout",
     "output_type": "stream",
     "text": [
      "THe list is  [1, 2, 3, 56, 78, 81, 90]\n",
      "Enter search element45\n",
      "Element not found\n"
     ]
    }
   ],
   "source": [
    "#Binary Search in recursive\n",
    "def binsearch(lst,l,h,key):\n",
    "    if h>=l:\n",
    "        mid=(h+l)//2\n",
    "        if(lst[mid]==key):\n",
    "            return mid\n",
    "        elif(lst[mid]>key):\n",
    "            return binsearch(lst,l,mid -1,key)\n",
    "        else:\n",
    "            return binsearch(lst,mid +1,h,key)\n",
    "    else:\n",
    "        return 0\n",
    "    \n",
    "    \n",
    "    \n",
    "    \n",
    "    \n",
    "    \n",
    "lst=[1,2,3,56,78,81,90]\n",
    "print(\"THe list is \",lst)\n",
    "key=int(input(\"Enter search element\"))\n",
    "\n",
    "output=binsearch(lst,0,len(lst)-1,key)\n",
    "\n",
    "if output !=0:\n",
    "    print(\"Element found\",output)\n",
    "else:\n",
    "    print(\"Element not found\")\n",
    "\n",
    "    "
   ]
  },
  {
   "cell_type": "code",
   "execution_count": 3,
   "id": "65c16f81",
   "metadata": {},
   "outputs": [
    {
     "name": "stdout",
     "output_type": "stream",
     "text": [
      "Enter the number5\n",
      "factorial of  5 is 120\n"
     ]
    }
   ],
   "source": [
    "#Factorial using Recursion\n",
    "\n",
    "def fac(n):\n",
    "    if(n==1 or n==0):\n",
    "        return 1\n",
    "    else:\n",
    "        x=n*fac(n-1)\n",
    "        return x\n",
    "key=int(input(\"Enter the number\"))\n",
    "print(\"factorial of \",key,\"is\",fac(key))"
   ]
  },
  {
   "cell_type": "code",
   "execution_count": 15,
   "id": "e707250d",
   "metadata": {},
   "outputs": [
    {
     "name": "stdout",
     "output_type": "stream",
     "text": [
      "Enter the principle10000\n",
      "Enter the rate of interest2\n",
      "Enter the time3\n",
      "Enter the compound interset interval1\n"
     ]
    },
    {
     "ename": "TypeError",
     "evalue": "can only concatenate list (not \"float\") to list",
     "output_type": "error",
     "traceback": [
      "\u001b[0;31m---------------------------------------------------------------------------\u001b[0m",
      "\u001b[0;31mTypeError\u001b[0m                                 Traceback (most recent call last)",
      "Input \u001b[0;32mIn [15]\u001b[0m, in \u001b[0;36m<cell line: 17>\u001b[0;34m()\u001b[0m\n\u001b[1;32m     14\u001b[0m t\u001b[38;5;241m=\u001b[39m\u001b[38;5;28mint\u001b[39m(\u001b[38;5;28minput\u001b[39m(\u001b[38;5;124m\"\u001b[39m\u001b[38;5;124mEnter the time\u001b[39m\u001b[38;5;124m\"\u001b[39m))\n\u001b[1;32m     15\u001b[0m n\u001b[38;5;241m=\u001b[39m\u001b[38;5;28mint\u001b[39m(\u001b[38;5;28minput\u001b[39m(\u001b[38;5;124m\"\u001b[39m\u001b[38;5;124mEnter the compound interset interval\u001b[39m\u001b[38;5;124m\"\u001b[39m))\n\u001b[0;32m---> 17\u001b[0m \u001b[38;5;28mprint\u001b[39m(\u001b[38;5;124m\"\u001b[39m\u001b[38;5;124mcompound interest is\u001b[39m\u001b[38;5;124m\"\u001b[39m,\u001b[43mcompoundint\u001b[49m\u001b[43m(\u001b[49m\u001b[43mp\u001b[49m\u001b[43m,\u001b[49m\u001b[43mr\u001b[49m\u001b[43m,\u001b[49m\u001b[43mt\u001b[49m\u001b[43m)\u001b[49m)\n",
      "Input \u001b[0;32mIn [15]\u001b[0m, in \u001b[0;36mcompoundint\u001b[0;34m(p, r, t)\u001b[0m\n\u001b[1;32m      6\u001b[0m     a\u001b[38;5;241m=\u001b[39mp\u001b[38;5;241m*\u001b[39m(\u001b[38;5;241m1\u001b[39m\u001b[38;5;241m+\u001b[39m(r\u001b[38;5;241m/\u001b[39m\u001b[38;5;241m100\u001b[39m))\u001b[38;5;241m*\u001b[39m\u001b[38;5;241m*\u001b[39m(n\u001b[38;5;241m*\u001b[39mt)\n\u001b[1;32m      7\u001b[0m     ci\u001b[38;5;241m=\u001b[39ma\u001b[38;5;241m-\u001b[39mp\n\u001b[0;32m----> 8\u001b[0m     lst\u001b[38;5;241m=\u001b[39m\u001b[43mlst\u001b[49m\u001b[38;5;241;43m+\u001b[39;49m\u001b[43mci\u001b[49m\n\u001b[1;32m      9\u001b[0m     \u001b[38;5;28mprint\u001b[39m(lst)\n\u001b[1;32m     10\u001b[0m \u001b[38;5;28;01mreturn\u001b[39;00m ci\n",
      "\u001b[0;31mTypeError\u001b[0m: can only concatenate list (not \"float\") to list"
     ]
    }
   ],
   "source": [
    "#compound Interest\n",
    "from matplotlib import pyplot as pt\n",
    "def compoundint(p,r,t):\n",
    "    lst=[]\n",
    "    for i in range(0,n):\n",
    "        a=p*(1+(r/100))**(n*t)\n",
    "        ci=a-p\n",
    "        lst=lst+ci\n",
    "        print(lst)\n",
    "    return ci\n",
    "\n",
    "p=int(input(\"Enter the principle\"))\n",
    "r=int(input(\"Enter the rate of interest\"))\n",
    "t=int(input(\"Enter the time\"))\n",
    "n=int(input(\"Enter the compound interset interval\"))\n",
    "\n",
    "print(\"compound interest is\",compoundint(p,r,t))"
   ]
  },
  {
   "cell_type": "code",
   "execution_count": 10,
   "id": "cde81a78",
   "metadata": {},
   "outputs": [
    {
     "name": "stdout",
     "output_type": "stream",
     "text": [
      "Enter the string 1deepak\n",
      "Enter the string 2deepak\n",
      "anagram\n"
     ]
    }
   ],
   "source": [
    "#Anagram using Recursion\n",
    "string1=str(input(\"Enter the string 1\"))\n",
    "string2=str(input(\"Enter the string 2\"))\n",
    "\n",
    "\n",
    "string1= string1.lower() \n",
    "string2= string2.lower()\n",
    "\n",
    "string1=[i for i in string1.split()]\n",
    "string2=[i for i in string2.split()]\n",
    "string1.sort()\n",
    "string2.sort()\n",
    "\n",
    "if(string1==string2):\n",
    "    print(\"anagram\")\n",
    "else:\n",
    "    print(\"not anagram\")"
   ]
  },
  {
   "cell_type": "code",
   "execution_count": null,
   "id": "c726760e",
   "metadata": {},
   "outputs": [],
   "source": []
  }
 ],
 "metadata": {
  "kernelspec": {
   "display_name": "Python 3 (ipykernel)",
   "language": "python",
   "name": "python3"
  },
  "language_info": {
   "codemirror_mode": {
    "name": "ipython",
    "version": 3
   },
   "file_extension": ".py",
   "mimetype": "text/x-python",
   "name": "python",
   "nbconvert_exporter": "python",
   "pygments_lexer": "ipython3",
   "version": "3.10.4"
  }
 },
 "nbformat": 4,
 "nbformat_minor": 5
}
